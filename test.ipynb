{
 "cells": [
  {
   "cell_type": "code",
   "execution_count": 23,
   "id": "380634eb",
   "metadata": {},
   "outputs": [],
   "source": [
    "import torch\n",
    "import torch.nn as nn\n",
    "import torch.nn.functional as F\n",
    "from torchvision import datasets, transforms\n",
    "\n",
    "from SDT import SDT"
   ]
  },
  {
   "cell_type": "code",
   "execution_count": 24,
   "id": "9c17efb6",
   "metadata": {},
   "outputs": [],
   "source": [
    "def onehot_coding(target, device, output_dim):\n",
    "    \"\"\"Convert the class labels into one-hot encoded vectors.\"\"\"\n",
    "    target_onehot = torch.FloatTensor(target.size()[0], output_dim).to(device)\n",
    "    target_onehot.data.zero_()\n",
    "    target_onehot.scatter_(1, target.view(-1, 1), 1.0)\n",
    "    return target_onehot"
   ]
  },
  {
   "cell_type": "code",
   "execution_count": 25,
   "id": "522d8dfb",
   "metadata": {},
   "outputs": [],
   "source": [
    "input_dim = 28 * 28    # the number of input dimensions\n",
    "output_dim = 10        # the number of outputs (i.e., # classes on MNIST)\n",
    "depth = 5              # tree depth\n",
    "lamda = 1e-3           # coefficient of the regularization term\n",
    "lr = 1e-3              # learning rate\n",
    "weight_decaly = 5e-4   # weight decay\n",
    "batch_size = 128       # batch size\n",
    "epochs = 3            # the number of training epochs\n",
    "log_interval = 100     # the number of batches to wait before printing logs\n",
    "use_cuda = False       # whether to use GPU"
   ]
  },
  {
   "cell_type": "code",
   "execution_count": 26,
   "id": "a527b1c7",
   "metadata": {},
   "outputs": [],
   "source": [
    "tree = SDT(input_dim, output_dim, depth, lamda, use_cuda)"
   ]
  },
  {
   "cell_type": "code",
   "execution_count": 27,
   "id": "8b21158e",
   "metadata": {},
   "outputs": [],
   "source": [
    "optimizer = torch.optim.Adam(tree.parameters(),\n",
    "                                lr=lr,\n",
    "                                weight_decay=weight_decaly)\n"
   ]
  },
  {
   "cell_type": "code",
   "execution_count": 28,
   "id": "d563f4f0",
   "metadata": {},
   "outputs": [
    {
     "name": "stdout",
     "output_type": "stream",
     "text": [
      "torch.Size([31, 785])\n",
      "torch.Size([10, 32])\n"
     ]
    }
   ],
   "source": [
    "for param in tree.parameters():\n",
    "    print(param.size())"
   ]
  },
  {
   "cell_type": "code",
   "execution_count": 29,
   "id": "a37a88f0",
   "metadata": {},
   "outputs": [],
   "source": [
    "data_dir = \"../Dataset/mnist\"\n",
    "\n",
    "transformer = transforms.Compose(\n",
    "    [transforms.ToTensor(), transforms.Normalize((0.1307,), (0.3081,))]\n",
    ")\n",
    "train_loader = torch.utils.data.DataLoader(\n",
    "    datasets.MNIST(data_dir,\n",
    "                    train=True,\n",
    "                    download=True,\n",
    "                    transform=transformer),\n",
    "    batch_size=batch_size,\n",
    "    shuffle=True,\n",
    ")\n",
    "\n",
    "test_loader = torch.utils.data.DataLoader(\n",
    "    datasets.MNIST(data_dir,\n",
    "                    train=False,\n",
    "                    transform=transformer),\n",
    "    batch_size=batch_size,\n",
    "    shuffle=True,\n",
    ")"
   ]
  },
  {
   "cell_type": "code",
   "execution_count": 33,
   "id": "4735bcaa",
   "metadata": {},
   "outputs": [],
   "source": [
    "best_testing_acc = 0.0\n",
    "testing_acc_list = []\n",
    "training_loss_list = []\n",
    "criterion = nn.CrossEntropyLoss()\n",
    "device = torch.device(\"cuda\" if use_cuda else \"cpu\")"
   ]
  },
  {
   "cell_type": "code",
   "execution_count": 34,
   "id": "165c703d",
   "metadata": {},
   "outputs": [
    {
     "data": {
      "text/plain": [
       "SDT(\n",
       "  (inner_nodes): Sequential(\n",
       "    (0): Linear(in_features=785, out_features=31, bias=False)\n",
       "    (1): Sigmoid()\n",
       "  )\n",
       "  (leaf_nodes): Linear(in_features=32, out_features=10, bias=False)\n",
       ")"
      ]
     },
     "execution_count": 34,
     "metadata": {},
     "output_type": "execute_result"
    }
   ],
   "source": [
    "epoch = 0\n",
    "tree.train()"
   ]
  },
  {
   "cell_type": "code",
   "execution_count": 35,
   "id": "b2dbf21b",
   "metadata": {},
   "outputs": [
    {
     "name": "stdout",
     "output_type": "stream",
     "text": [
      "Epoch: 00 | Batch: 000 | Loss: 2.31331 | Correct: 013/128\n",
      "Epoch: 00 | Batch: 100 | Loss: 2.08869 | Correct: 101/128\n",
      "Epoch: 00 | Batch: 200 | Loss: 1.87784 | Correct: 114/128\n",
      "Epoch: 00 | Batch: 300 | Loss: 1.73780 | Correct: 114/128\n",
      "Epoch: 00 | Batch: 400 | Loss: 1.56026 | Correct: 115/128\n",
      "\n",
      "Epoch: 00 | Testing Accuracy: 8894.0/10000 (88.940%) | Historical Best: 88.940%\n",
      "\n"
     ]
    }
   ],
   "source": [
    "\n",
    "for batch_idx, (data, target) in enumerate(train_loader):\n",
    "\n",
    "    batch_size = data.size()[0]\n",
    "    data, target = data.to(device), target.to(device)\n",
    "    target_onehot = onehot_coding(target, device, output_dim)\n",
    "\n",
    "    output, penalty = tree.forward(data, is_training_data=True)\n",
    "\n",
    "    loss = criterion(output, target.view(-1))\n",
    "    loss += penalty\n",
    "\n",
    "    optimizer.zero_grad()\n",
    "    loss.backward()\n",
    "    optimizer.step()\n",
    "\n",
    "    # Print training status\n",
    "    if batch_idx % log_interval == 0:\n",
    "        pred = output.data.max(1)[1]\n",
    "        correct = pred.eq(target.view(-1).data).sum()\n",
    "\n",
    "        msg = (\n",
    "            \"Epoch: {:02d} | Batch: {:03d} | Loss: {:.5f} |\"\n",
    "            \" Correct: {:03d}/{:03d}\"\n",
    "        )\n",
    "        print(msg.format(epoch, batch_idx, loss, correct, batch_size))\n",
    "        training_loss_list.append(loss.cpu().data.numpy())\n",
    "\n",
    "# Evaluating\n",
    "tree.eval()\n",
    "correct = 0.\n",
    "\n",
    "for batch_idx, (data, target) in enumerate(test_loader):\n",
    "\n",
    "    batch_size = data.size()[0]\n",
    "    data, target = data.to(device), target.to(device)\n",
    "\n",
    "    output = F.softmax(tree.forward(data), dim=1)\n",
    "\n",
    "    pred = output.data.max(1)[1]\n",
    "    correct += pred.eq(target.view(-1).data).sum()\n",
    "\n",
    "accuracy = 100.0 * float(correct) / len(test_loader.dataset)\n",
    "\n",
    "if accuracy > best_testing_acc:\n",
    "    best_testing_acc = accuracy\n",
    "\n",
    "msg = (\n",
    "    \"\\nEpoch: {:02d} | Testing Accuracy: {}/{} ({:.3f}%) |\"\n",
    "    \" Historical Best: {:.3f}%\\n\"\n",
    ")\n",
    "print(\n",
    "    msg.format(\n",
    "        epoch, correct,\n",
    "        len(test_loader.dataset),\n",
    "        accuracy,\n",
    "        best_testing_acc\n",
    "    )\n",
    ")\n",
    "testing_acc_list.append(accuracy)\n"
   ]
  },
  {
   "cell_type": "code",
   "execution_count": 20,
   "id": "1bbeaf81",
   "metadata": {},
   "outputs": [
    {
     "name": "stdout",
     "output_type": "stream",
     "text": [
      "Epoch: 00 | Batch: 000 | Loss: 1.98577 | Correct: 097/128\n",
      "Epoch: 00 | Batch: 100 | Loss: 1.80180 | Correct: 102/128\n",
      "Epoch: 00 | Batch: 200 | Loss: 1.65400 | Correct: 109/128\n",
      "Epoch: 00 | Batch: 300 | Loss: 1.57277 | Correct: 102/128\n",
      "Epoch: 00 | Batch: 400 | Loss: 1.43275 | Correct: 098/128\n",
      "\n",
      "Epoch: 00 | Testing Accuracy: 7918.0/10000 (79.180%) | Historical Best: 79.180%\n",
      "\n",
      "Epoch: 01 | Batch: 000 | Loss: 1.39647 | Correct: 101/128\n",
      "Epoch: 01 | Batch: 100 | Loss: 1.29915 | Correct: 101/128\n",
      "Epoch: 01 | Batch: 200 | Loss: 1.15956 | Correct: 107/128\n",
      "Epoch: 01 | Batch: 300 | Loss: 1.14269 | Correct: 106/128\n",
      "Epoch: 01 | Batch: 400 | Loss: 1.14038 | Correct: 095/128\n",
      "\n",
      "Epoch: 01 | Testing Accuracy: 8173.0/10000 (81.730%) | Historical Best: 81.730%\n",
      "\n",
      "Epoch: 02 | Batch: 000 | Loss: 0.95613 | Correct: 111/128\n",
      "Epoch: 02 | Batch: 100 | Loss: 0.95063 | Correct: 109/128\n",
      "Epoch: 02 | Batch: 200 | Loss: 0.77769 | Correct: 110/128\n",
      "Epoch: 02 | Batch: 300 | Loss: 0.79426 | Correct: 111/128\n",
      "Epoch: 02 | Batch: 400 | Loss: 0.84475 | Correct: 106/128\n",
      "\n",
      "Epoch: 02 | Testing Accuracy: 8371.0/10000 (83.710%) | Historical Best: 83.710%\n",
      "\n"
     ]
    }
   ],
   "source": [
    "for epoch in range(epochs):\n",
    "\n",
    "    # Training\n",
    "    tree.train()\n",
    "    for batch_idx, (data, target) in enumerate(train_loader):\n",
    "\n",
    "        batch_size = data.size()[0]\n",
    "        data, target = data.to(device), target.to(device)\n",
    "        target_onehot = onehot_coding(target, device, output_dim)\n",
    "\n",
    "        output, penalty = tree.forward(data, is_training_data=True)\n",
    "\n",
    "        loss = criterion(output, target.view(-1))\n",
    "        loss += penalty\n",
    "\n",
    "        optimizer.zero_grad()\n",
    "        loss.backward()\n",
    "        optimizer.step()\n",
    "\n",
    "        # Print training status\n",
    "        if batch_idx % log_interval == 0:\n",
    "            pred = output.data.max(1)[1]\n",
    "            correct = pred.eq(target.view(-1).data).sum()\n",
    "\n",
    "            msg = (\n",
    "                \"Epoch: {:02d} | Batch: {:03d} | Loss: {:.5f} |\"\n",
    "                \" Correct: {:03d}/{:03d}\"\n",
    "            )\n",
    "            print(msg.format(epoch, batch_idx, loss, correct, batch_size))\n",
    "            training_loss_list.append(loss.cpu().data.numpy())\n",
    "\n",
    "    # Evaluating\n",
    "    tree.eval()\n",
    "    correct = 0.\n",
    "\n",
    "    for batch_idx, (data, target) in enumerate(test_loader):\n",
    "\n",
    "        batch_size = data.size()[0]\n",
    "        data, target = data.to(device), target.to(device)\n",
    "\n",
    "        output = F.softmax(tree.forward(data), dim=1)\n",
    "\n",
    "        pred = output.data.max(1)[1]\n",
    "        correct += pred.eq(target.view(-1).data).sum()\n",
    "\n",
    "    accuracy = 100.0 * float(correct) / len(test_loader.dataset)\n",
    "\n",
    "    if accuracy > best_testing_acc:\n",
    "        best_testing_acc = accuracy\n",
    "\n",
    "    msg = (\n",
    "        \"\\nEpoch: {:02d} | Testing Accuracy: {}/{} ({:.3f}%) |\"\n",
    "        \" Historical Best: {:.3f}%\\n\"\n",
    "    )\n",
    "    print(\n",
    "        msg.format(\n",
    "            epoch, correct,\n",
    "            len(test_loader.dataset),\n",
    "            accuracy,\n",
    "            best_testing_acc\n",
    "        )\n",
    "    )\n",
    "    testing_acc_list.append(accuracy)\n"
   ]
  }
 ],
 "metadata": {
  "kernelspec": {
   "display_name": "myenv",
   "language": "python",
   "name": "python3"
  },
  "language_info": {
   "codemirror_mode": {
    "name": "ipython",
    "version": 3
   },
   "file_extension": ".py",
   "mimetype": "text/x-python",
   "name": "python",
   "nbconvert_exporter": "python",
   "pygments_lexer": "ipython3",
   "version": "3.12.3"
  }
 },
 "nbformat": 4,
 "nbformat_minor": 5
}
