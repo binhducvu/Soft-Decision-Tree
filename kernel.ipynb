{
 "cells": [
  {
   "cell_type": "code",
   "execution_count": 220,
   "id": "011cf7eb",
   "metadata": {},
   "outputs": [],
   "source": [
    "import pandas as pd\n",
    "from sklearn.model_selection import train_test_split\n",
    "from sklearn.ensemble import RandomForestClassifier\n",
    "from sklearn.datasets import load_iris\n",
    "import xgboost\n",
    "import numpy as np\n",
    "from scipy.sparse import csr_matrix, diags"
   ]
  },
  {
   "cell_type": "code",
   "execution_count": 221,
   "id": "394ff7d2",
   "metadata": {},
   "outputs": [],
   "source": [
    "iris = load_iris(as_frame=True)\n",
    "X, y = load_iris(return_X_y=True)\n",
    "iris = iris['data']\n",
    "X_train, X_test, y_train, y_test = train_test_split(X, y)\n",
    "\n",
    "skrf = RandomForestClassifier(max_depth=3, random_state=0)\n",
    "skrf.fit(X_train, y_train)\n",
    "skpreds = skrf.predict(X_test)\n",
    "\n",
    "# access trees\n",
    "# trees = skrf.estimators_\n",
    "leaves = skrf.apply(X_train)"
   ]
  },
  {
   "cell_type": "code",
   "execution_count": 222,
   "id": "4058796e",
   "metadata": {},
   "outputs": [],
   "source": [
    "def make_adjacency(leaves):\n",
    "\n",
    "    n_samples, n_trees = leaves.shape\n",
    "    \n",
    "    # give each (tree, leaf) a unique global ID\n",
    "    unique_leafIDs = []\n",
    "    offset = 0\n",
    "    offsets = []\n",
    "    mappings = []\n",
    "    for t in range(n_trees):\n",
    "        col = leaves[:, t]\n",
    "        # relabel leaves \n",
    "        unique, relabeled = np.unique(col, return_inverse=True)\n",
    "        unique_leafIDs.append(relabeled + offset)\n",
    "        mapping = {u: i for i, u in enumerate(unique)}\n",
    "        mappings.append(mapping)\n",
    "        offsets.append(offset)\n",
    "        offset += len(unique)\n",
    "    leafIDs_global = np.column_stack(unique_leafIDs)\n",
    "\n",
    "    # Build sparse membership matrix M\n",
    "    row_ind = np.repeat(np.arange(n_samples), n_trees)\n",
    "    col_ind = leafIDs_global.ravel()\n",
    "    data = np.ones_like(row_ind, dtype=np.float32)\n",
    "\n",
    "    M = csr_matrix((data, (row_ind, col_ind)), shape=(n_samples, offset))\n",
    "\n",
    "    # leaf sizes and weights\n",
    "    leaf_sizes = np.array(M.sum(axis=0)).ravel()\n",
    "    leaf_weights = 1.0 / np.maximum(leaf_sizes, 1)  # avoid div by zero\n",
    "\n",
    "    M_norm = M @ diags(leaf_weights)\n",
    "    A = (M_norm @ M.T) / n_trees\n",
    "    \n",
    "    metadata = {\n",
    "        \"offsets\": offsets,\n",
    "        \"leaf_weights\": leaf_weights,\n",
    "        \"M_norm\": M_norm,\n",
    "        \"total_leaves\": offset,\n",
    "        \"mappings\": mappings\n",
    "    }\n",
    "    return A.toarray(), metadata"
   ]
  },
  {
   "cell_type": "code",
   "execution_count": 223,
   "id": "bc8cf7e8",
   "metadata": {},
   "outputs": [],
   "source": [
    "A, metadata = make_adjacency(leaves)\n",
    "new_leaves = skrf.apply(X_test)"
   ]
  },
  {
   "cell_type": "code",
   "execution_count": 224,
   "id": "71402c97",
   "metadata": {},
   "outputs": [],
   "source": [
    "def new_adjacency(new_leaves, metadata):\n",
    "    offsets = metadata[\"offsets\"]\n",
    "    leaf_weights = metadata[\"leaf_weights\"]\n",
    "    M_norm_train = metadata[\"M_norm\"]\n",
    "    n_new, n_trees = new_leaves.shape\n",
    "    total_leaves = metadata[\"total_leaves\"] \n",
    "    mappings = metadata[\"mappings\"]\n",
    "\n",
    "    new_leafIDs = []\n",
    "    for t in range(n_trees):\n",
    "        mapping = mappings[t]\n",
    "        relabeled = np.array([mapping[lid] for lid in new_leaves[:, t]])\n",
    "        new_leafIDs.append(relabeled + offsets[t])\n",
    "    leafIDs_global = np.column_stack(new_leafIDs)\n",
    "    row_ind = np.repeat(np.arange(n_new), n_trees)\n",
    "    col_ind = leafIDs_global.ravel()\n",
    "\n",
    "    data = np.ones_like(row_ind, dtype=np.float32)\n",
    "\n",
    "    M_new = csr_matrix((data, (row_ind, col_ind)), shape=(n_new, total_leaves))\n",
    "    M_norm_new = M_new @ diags(leaf_weights)\n",
    "    A_new = (M_norm_new @ M_norm_train.T) / n_trees\n",
    "    return A_new"
   ]
  },
  {
   "cell_type": "code",
   "execution_count": 226,
   "id": "d73b2cda",
   "metadata": {},
   "outputs": [],
   "source": [
    "A_new = new_adjacency(new_leaves, metadata)"
   ]
  },
  {
   "cell_type": "code",
   "execution_count": 227,
   "id": "53b0c22f",
   "metadata": {},
   "outputs": [
    {
     "data": {
      "text/plain": [
       "<Compressed Sparse Row sparse matrix of dtype 'float64'\n",
       "\twith 2000 stored elements and shape (38, 112)>"
      ]
     },
     "execution_count": 227,
     "metadata": {},
     "output_type": "execute_result"
    }
   ],
   "source": [
    "A_new"
   ]
  }
 ],
 "metadata": {
  "kernelspec": {
   "display_name": "myenv",
   "language": "python",
   "name": "python3"
  },
  "language_info": {
   "codemirror_mode": {
    "name": "ipython",
    "version": 3
   },
   "file_extension": ".py",
   "mimetype": "text/x-python",
   "name": "python",
   "nbconvert_exporter": "python",
   "pygments_lexer": "ipython3",
   "version": "3.12.3"
  }
 },
 "nbformat": 4,
 "nbformat_minor": 5
}
