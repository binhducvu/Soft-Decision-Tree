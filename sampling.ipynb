{
 "cells": [
  {
   "cell_type": "code",
   "execution_count": 1,
   "id": "18a25893",
   "metadata": {},
   "outputs": [],
   "source": [
    "import pandas as pd\n",
    "import numpy as np"
   ]
  },
  {
   "cell_type": "code",
   "execution_count": 2,
   "id": "f6f70d66",
   "metadata": {},
   "outputs": [],
   "source": [
    "def toeplitz(d, rho):\n",
    "    idx = np.arange(d)\n",
    "    return rho ** np.abs(idx[:, None] - idx[None, :])"
   ]
  },
  {
   "cell_type": "code",
   "execution_count": 3,
   "id": "3b9c8a06",
   "metadata": {},
   "outputs": [],
   "source": [
    "def sigmoid(z):\n",
    "    return 1 / (1 + np.exp(-z))\n",
    "\n",
    "def simulate_data(n=1000, d=10, rho=0.9, beta=None, seed=0):\n",
    "    \"\"\"\n",
    "    Simulate data:\n",
    "      X ~ N(0, Σ),  Σ_ij = rho^{|i-j|},\n",
    "      Y ~ Bernoulli( sigmoid(X @ beta) ).\n",
    "    \"\"\"\n",
    "    rng = np.random.default_rng(seed)\n",
    "    sigma = toeplitz(d, rho)\n",
    "\n",
    "    # default beta if not provided\n",
    "    if beta is None:\n",
    "        beta = np.concatenate([np.zeros(d // 2), np.ones(d // 2)])\n",
    "    beta = np.asarray(beta)\n",
    "\n",
    "    # sample X\n",
    "    L = np.linalg.cholesky(sigma)\n",
    "    Z = rng.standard_normal((n, d))\n",
    "    X = Z @ L.T\n",
    "\n",
    "    # sample Y\n",
    "    logits = X @ beta\n",
    "    p = sigmoid(logits)\n",
    "    y = rng.binomial(1, p)\n",
    "\n",
    "    return X, y, beta, sigma"
   ]
  },
  {
   "cell_type": "code",
   "execution_count": null,
   "id": "9e73e3dc",
   "metadata": {},
   "outputs": [],
   "source": [
    "X, y, beta, Sigma = simulate_data(n=2000, d=10, rho=0.9, seed=1080)\n",
    "data = pd.DataFrame(np.concatenate((X, y.reshape(-1, 1)), axis=1))\n",
    "data.rename(columns={data.shape[1]-1: 'y'}, inplace=True)\n",
    "data.to_csv('data_1080.csv')"
   ]
  },
  {
   "cell_type": "code",
   "execution_count": 6,
   "id": "e08f0866",
   "metadata": {},
   "outputs": [],
   "source": [
    "X, y, beta, Sigma = simulate_data(n=1000, d=10, rho=0.9, seed=42)\n",
    "data = pd.DataFrame(np.concatenate((X, y.reshape(-1, 1)), axis=1))\n",
    "data.rename(columns={data.shape[1]-1: 'y'}, inplace=True)\n",
    "data.to_csv('data_42.csv')"
   ]
  }
 ],
 "metadata": {
  "kernelspec": {
   "display_name": "myenv",
   "language": "python",
   "name": "python3"
  },
  "language_info": {
   "codemirror_mode": {
    "name": "ipython",
    "version": 3
   },
   "file_extension": ".py",
   "mimetype": "text/x-python",
   "name": "python",
   "nbconvert_exporter": "python",
   "pygments_lexer": "ipython3",
   "version": "3.12.3"
  }
 },
 "nbformat": 4,
 "nbformat_minor": 5
}
